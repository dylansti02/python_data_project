{
 "cells": [
  {
   "cell_type": "code",
   "execution_count": 1,
   "id": "2de33d28",
   "metadata": {},
   "outputs": [],
   "source": [
    "#Importing Libraries\n",
    "\n",
    "import pandas as pd\n",
    "from datasets import load_dataset\n",
    "import matplotlib.pyplot as plt\n",
    "import ast\n",
    "\n",
    "#Loading Data\n",
    "\n",
    "dataset = load_dataset('lukebarousse/data_jobs')\n",
    "df = dataset['train'].to_pandas()\n",
    "\n",
    "#Data Cleanup\n",
    "\n",
    "df['job_posted_date'] = pd.to_datetime(df['job_posted_date'])\n",
    "\n",
    "df['job_skills'] = df['job_skills'].apply(lambda skill_list:  ast.literal_eval(skill_list) if isinstance(skill_list, str) else skill_list)\n"
   ]
  },
  {
   "cell_type": "code",
   "execution_count": null,
   "id": "acf1e236",
   "metadata": {},
   "outputs": [],
   "source": [
    "df_da_us = df[(df['job_title_short']=='Data Analyst') & (df['job_country']=='United States')].copy()\n",
    "df_da_us = df_da_us.dropna(subset=['salary_year_avg'])\n",
    "df_da_us = df_da_us.explode('job_skills')\n",
    "df_da_us[['salary_year_avg', 'job_skills']]\n",
    "df_da_us_group = df_da_us.groupby('job_skills')['salary_year_avg'].agg(['count', 'median'])\n",
    "df_da_top_pay = df_da_us_group.sort_values(by='median', ascending=False).head(10)\n",
    "df_da_skills = df_da_us_group.sort_values(by='count', ascending=False).head(10).sort_values(by='median', ascending=False)\n",
    "\n",
    "\n",
    "fig, ax = plt.subplots(2, 1)\n",
    "\n",
    "df_da_top_pay[::-1].plot(kind='barh', y='median', ax=ax[0], legend=False)\n",
    "ax[0].set_title('Top 10 Highest Paid Skills for Data Analysts')\n",
    "ax[0].set_ylabel('')\n",
    "ax[0].set_xlabel('')\n",
    "ax[0].xaxis.set_major_formatter(plt.FuncFormatter(lambda x, pos:  f'${int(x/1000)}k'))\n",
    "\n",
    "df_da_skills.plot(kind='barh', y='median', ax=ax[1], legend=False)\n",
    "ax[1].invert_yaxis()\n",
    "ax[1].set_xlim(ax[0].get_xlim())\n",
    "ax[1].set_title('Top 10 Most In-Demand Skills for Data Analysts')\n",
    "ax[1].set_ylabel('')\n",
    "ax[1].set_xlabel('Median Salary (USD)')\n",
    "ax[1].xaxis.set_major_formatter(plt.FuncFormatter(lambda x, pos:  f'${int(x/1000)}k'))\n",
    "fig.tight_layout()\n",
    "\n",
    "\n"
   ]
  },
  {
   "cell_type": "code",
   "execution_count": null,
   "id": "46f39786",
   "metadata": {},
   "outputs": [],
   "source": []
  }
 ],
 "metadata": {
  "kernelspec": {
   "display_name": "python_course",
   "language": "python",
   "name": "python3"
  },
  "language_info": {
   "codemirror_mode": {
    "name": "ipython",
    "version": 3
   },
   "file_extension": ".py",
   "mimetype": "text/x-python",
   "name": "python",
   "nbconvert_exporter": "python",
   "pygments_lexer": "ipython3",
   "version": "3.11.11"
  }
 },
 "nbformat": 4,
 "nbformat_minor": 5
}
