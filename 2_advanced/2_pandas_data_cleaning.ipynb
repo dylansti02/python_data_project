{
 "cells": [
  {
   "cell_type": "code",
   "execution_count": 1,
   "id": "ae3fbd1b",
   "metadata": {},
   "outputs": [],
   "source": [
    "#Importing Libraries\n",
    "\n",
    "import pandas as pd\n",
    "from datasets import load_dataset\n",
    "import matplotlib.pyplot as plt\n",
    "\n",
    "#Loading Data\n",
    "\n",
    "dataset = load_dataset('lukebarousse/data_jobs')\n",
    "df = dataset['train'].to_pandas()\n",
    "\n",
    "#Data Cleanup\n",
    "\n",
    "df['job_posted_date'] = pd.to_datetime(df['job_posted_date'])"
   ]
  },
  {
   "cell_type": "code",
   "execution_count": 2,
   "id": "a8ef7305",
   "metadata": {},
   "outputs": [],
   "source": [
    "median_salary_year = df['salary_year_avg'].median()\n",
    "median_salary_hour = df['salary_hour_avg'].median()"
   ]
  },
  {
   "cell_type": "code",
   "execution_count": 3,
   "id": "7b68db7b",
   "metadata": {},
   "outputs": [],
   "source": [
    "df_filled = df\n",
    "\n",
    "df_filled['salary_year_avg'] =df_filled['salary_year_avg'].fillna(median_salary_year)\n",
    "df_filled['salary_hour_avg'] =df_filled['salary_hour_avg'].fillna(median_salary_hour)"
   ]
  },
  {
   "cell_type": "code",
   "execution_count": 7,
   "id": "cdfd5bff",
   "metadata": {},
   "outputs": [],
   "source": [
    "df_unique = df_filled"
   ]
  },
  {
   "cell_type": "code",
   "execution_count": 8,
   "id": "8408e30b",
   "metadata": {},
   "outputs": [
    {
     "name": "stdout",
     "output_type": "stream",
     "text": [
      "length of original df:    785741\n",
      "length of drop duplicates df:     508042\n",
      "Rows Dropped:     277699\n"
     ]
    }
   ],
   "source": [
    "df_unique = df_unique.drop_duplicates(subset=['job_title', 'company_name'])\n",
    "\n",
    "print('length of original df:   ', len(df_filled))\n",
    "print('length of drop duplicates df:    ', len(df_unique))\n",
    "print('Rows Dropped:    ', len(df_filled)-len(df_unique))"
   ]
  },
  {
   "cell_type": "code",
   "execution_count": null,
   "id": "82d492ef",
   "metadata": {},
   "outputs": [],
   "source": []
  }
 ],
 "metadata": {
  "kernelspec": {
   "display_name": "python_course",
   "language": "python",
   "name": "python3"
  },
  "language_info": {
   "codemirror_mode": {
    "name": "ipython",
    "version": 3
   },
   "file_extension": ".py",
   "mimetype": "text/x-python",
   "name": "python",
   "nbconvert_exporter": "python",
   "pygments_lexer": "ipython3",
   "version": "3.11.11"
  }
 },
 "nbformat": 4,
 "nbformat_minor": 5
}
